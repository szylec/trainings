{
 "cells": [
  {
   "cell_type": "code",
   "execution_count": 183,
   "metadata": {},
   "outputs": [
    {
     "data": {
      "text/plain": [
       "'\\nFrom OpenAI gym.\\nhttps://gym.openai.com/envs/FrozenLake-v0/\\n\\nThe agent controls the movement of a character in a grid world. \\nSome tiles of the grid are walkable, and others lead to the agent falling into the water. \\nAdditionally, the movement direction of the agent is uncertain and only partially depends on the chosen direction.\\nThe agent is rewarded for finding a walkable path to a goal tile.\\n\\nThe surface is described using a grid like the following:\\nSFFF       (S: starting point, safe)\\nFHFH       (F: frozen surface, safe)\\nFFFH       (H: hole, fall to your doom)\\nHFFG       (G: goal, where the frisbee is located)\\n'"
      ]
     },
     "execution_count": 183,
     "metadata": {},
     "output_type": "execute_result"
    }
   ],
   "source": [
    "%reset\n",
    "'''\n",
    "From OpenAI gym.\n",
    "https://gym.openai.com/envs/FrozenLake-v0/\n",
    "\n",
    "The agent controls the movement of a character in a grid world. \n",
    "Some tiles of the grid are walkable, and others lead to the agent falling into the water. \n",
    "Additionally, the movement direction of the agent is uncertain and only partially depends on the chosen direction.\n",
    "The agent is rewarded for finding a walkable path to a goal tile.\n",
    "\n",
    "The surface is described using a grid like the following:\n",
    "SFFF       (S: starting point, safe)\n",
    "FHFH       (F: frozen surface, safe)\n",
    "FFFH       (H: hole, fall to your doom)\n",
    "HFFG       (G: goal, where the frisbee is located)\n",
    "'''"
   ]
  },
  {
   "cell_type": "markdown",
   "metadata": {},
   "source": [
    "# Q-Table Learning"
   ]
  },
  {
   "cell_type": "code",
   "execution_count": 184,
   "metadata": {},
   "outputs": [],
   "source": [
    "import gym\n",
    "import numpy as np\n",
    "import pandas as pd\n",
    "import matplotlib.pyplot as plt\n",
    "import seaborn as sns\n",
    "%matplotlib inline\n",
    "\n",
    "# Load environment.\n",
    "environment = gym.make('FrozenLake-v0')"
   ]
  },
  {
   "cell_type": "code",
   "execution_count": 198,
   "metadata": {},
   "outputs": [
    {
     "name": "stdout",
     "output_type": "stream",
     "text": [
      "Score over time: 0.5335\n",
      "Final Q-Table Values\n",
      "[[3.36643456e-01 1.16463128e-02 1.01220993e-02 9.95473263e-03]\n",
      " [1.61326077e-03 3.61694241e-04 2.11981412e-05 1.67161002e-01]\n",
      " [1.06783638e-03 2.48548055e-01 8.07474766e-04 7.59804565e-03]\n",
      " [2.32674130e-04 9.15676677e-04 1.50388572e-03 8.04450796e-02]\n",
      " [4.57024798e-01 1.49637112e-03 2.24320667e-04 7.74135639e-04]\n",
      " [0.00000000e+00 0.00000000e+00 0.00000000e+00 0.00000000e+00]\n",
      " [4.12847887e-04 7.48780823e-03 3.23264795e-04 2.33497119e-05]\n",
      " [0.00000000e+00 0.00000000e+00 0.00000000e+00 0.00000000e+00]\n",
      " [1.25789856e-03 6.72371351e-03 1.08322198e-03 2.52461482e-01]\n",
      " [9.62800325e-04 5.56302287e-01 1.93049427e-03 1.39509274e-03]\n",
      " [1.67408454e-01 5.31530531e-04 1.47179738e-03 1.73570467e-04]\n",
      " [0.00000000e+00 0.00000000e+00 0.00000000e+00 0.00000000e+00]\n",
      " [0.00000000e+00 0.00000000e+00 0.00000000e+00 0.00000000e+00]\n",
      " [0.00000000e+00 4.73136848e-03 8.52034106e-01 1.94281108e-03]\n",
      " [0.00000000e+00 0.00000000e+00 8.42105517e-01 0.00000000e+00]\n",
      " [0.00000000e+00 0.00000000e+00 0.00000000e+00 0.00000000e+00]]\n",
      "\n"
     ]
    },
    {
     "data": {
      "text/plain": [
       "<matplotlib.axes._subplots.AxesSubplot at 0x1a1aacf240>"
      ]
     },
     "execution_count": 198,
     "metadata": {},
     "output_type": "execute_result"
    },
    {
     "data": {
      "image/png": "[encoded data removed]",
      "text/plain": [
       "<Figure size 720x360 with 1 Axes>"
      ]
     },
     "metadata": {},
     "output_type": "display_data"
    }
   ],
   "source": [
    "# Initialize table with zeros.\n",
    "Q = np.zeros([environment.observation_space.n, environment.action_space.n])\n",
    "\n",
    "# Learning parameters.\n",
    "lr = .8  # Learning rate.\n",
    "y = .95  # Discount rate.\n",
    "no_episodes = 2000\n",
    "\n",
    "rewards = []\n",
    "for_viz = []\n",
    "for episode in range(no_episodes):\n",
    "    # Reset environment and get first new observation.\n",
    "    state = environment.reset()\n",
    "    reward_all = 0\n",
    "    done = False  # Done. If true, then episode is done.\n",
    "    step_number = 0  # Iterator. Number of steps in episode.\n",
    "    # The Q-Table learning algorithm.\n",
    "    while step_number < 99:\n",
    "        step_number+=1\n",
    "        # Choose an action by greedily (with noise) picking from Q table\n",
    "        # Noise is important. It's allows to choose different initial actions\n",
    "        action = np.argmax(Q[state,:] + np.random.randn(1, environment.action_space.n)*(1./(episode+1)))\n",
    "        # Get new state and reward from environment.\n",
    "        state1, reward, done, _ = environment.step(action)\n",
    "        # Update Q-Table with new knowledge\n",
    "        # Use learning rate: If you think of the Q algorithm in the context of gradient descent, \n",
    "        # then `r + γ(max(Q(s’,a’))` is what we would like to approach, \n",
    "        # but we know that it is a noisy estimate of the true Q value \n",
    "        # for that given region. So instead of directly updating toward it,\n",
    "        # we take a small step in the direction that will make the Q value closer to the desired one.\n",
    "        Q[state, action] = Q[state, action] + lr*(reward + y*np.max(Q[state1, :]) - Q[state, action])\n",
    "        reward_all += reward\n",
    "        state = state1\n",
    "        if done == True:\n",
    "            break\n",
    "    rewards.append(reward_all)\n",
    "    if episode % 100 == 0:\n",
    "        for_viz.append((episode, sum(rewards)))\n",
    "    \n",
    "print('Score over time: {}'.format(str(sum(rewards)/no_episodes)))\n",
    "print('Final Q-Table Values')\n",
    "print(Q)\n",
    "print('')\n",
    "\n",
    "for_viz = pd.DataFrame(for_viz, columns=['episode', 'reward_sum'])\n",
    "plt.figure(figsize=(10,5))\n",
    "sns.pointplot(x='episode', y='reward_sum', data=for_viz)"
   ]
  }
 ],
 "metadata": {
  "kernelspec": {
   "display_name": "Python 3",
   "language": "python",
   "name": "python3"
  },
  "language_info": {
   "codemirror_mode": {
    "name": "ipython",
    "version": 3
   },
   "file_extension": ".py",
   "mimetype": "text/x-python",
   "name": "python",
   "nbconvert_exporter": "python",
   "pygments_lexer": "ipython3",
   "version": "3.6.6"
  }
 },
 "nbformat": 4,
 "nbformat_minor": 2
}
