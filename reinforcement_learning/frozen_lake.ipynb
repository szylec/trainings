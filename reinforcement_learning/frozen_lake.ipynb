{
 "cells": [
  {
   "cell_type": "code",
   "execution_count": 240,
   "metadata": {},
   "outputs": [
    {
     "data": {
      "text/plain": [
       "'\\nFrom OpenAI gym.\\nhttps://gym.openai.com/envs/FrozenLake-v0/\\n\\nThe agent controls the movement of a character in a grid world. \\nSome tiles of the grid are walkable, and others lead to the agent falling into the water. \\nAdditionally, the movement direction of the agent is uncertain and only partially depends on the chosen direction.\\nThe agent is rewarded for finding a walkable path to a goal tile.\\n\\nThe surface is described using a grid like the following:\\nSFFF       (S: starting point, safe)\\nFHFH       (F: frozen surface, safe)\\nFFFH       (H: hole, fall to your doom)\\nHFFG       (G: goal, where the frisbee is located)\\n'"
      ]
     },
     "execution_count": 240,
     "metadata": {},
     "output_type": "execute_result"
    }
   ],
   "source": [
    "%reset\n",
    "'''\n",
    "From OpenAI gym.\n",
    "https://gym.openai.com/envs/FrozenLake-v0/\n",
    "\n",
    "The agent controls the movement of a character in a grid world. \n",
    "Some tiles of the grid are walkable, and others lead to the agent falling into the water. \n",
    "Additionally, the movement direction of the agent is uncertain and only partially depends on the chosen direction.\n",
    "The agent is rewarded for finding a walkable path to a goal tile.\n",
    "\n",
    "The surface is described using a grid like the following:\n",
    "SFFF       (S: starting point, safe)\n",
    "FHFH       (F: frozen surface, safe)\n",
    "FFFH       (H: hole, fall to your doom)\n",
    "HFFG       (G: goal, where the frisbee is located)\n",
    "'''"
   ]
  },
  {
   "cell_type": "markdown",
   "metadata": {},
   "source": [
    "# Q-Table Learning"
   ]
  },
  {
   "cell_type": "code",
   "execution_count": 241,
   "metadata": {},
   "outputs": [],
   "source": [
    "import gym\n",
    "import numpy as np\n",
    "import pandas as pd\n",
    "import matplotlib.pyplot as plt\n",
    "import seaborn as sns\n",
    "%matplotlib inline\n",
    "\n",
    "# Load environment.\n",
    "environment = gym.make('FrozenLake-v0')"
   ]
  },
  {
   "cell_type": "code",
   "execution_count": 242,
   "metadata": {},
   "outputs": [],
   "source": [
    "def evaluate(for_viz, no_rewards, no_episodes, no_steps=None):\n",
    "    print('Score over time: {}'.format(str(sum(no_rewards)/no_episodes)))\n",
    "    print('Final Q-Table Values')\n",
    "    print(Q)\n",
    "    print('')\n",
    "\n",
    "    for_viz = pd.DataFrame(for_viz, columns=['episode', 'reward_sum'])\n",
    "    plt.figure(figsize=(10,5))\n",
    "    sns.pointplot(x='episode', y='reward_sum', data=for_viz)"
   ]
  },
  {
   "cell_type": "code",
   "execution_count": 243,
   "metadata": {},
   "outputs": [
    {
     "name": "stdout",
     "output_type": "stream",
     "text": [
      "Score over time: 0.4435\n",
      "Final Q-Table Values\n",
      "[[8.43877053e-02 6.33303082e-03 2.34830695e-03 6.09044065e-03]\n",
      " [8.51153584e-05 1.43132265e-03 4.93145717e-04 6.86296850e-02]\n",
      " [4.10155065e-03 2.53470958e-03 3.64968635e-03 8.10000225e-02]\n",
      " [1.80587192e-04 9.25496603e-04 1.28210129e-04 5.72030537e-02]\n",
      " [1.43846549e-01 1.10634335e-04 4.45348258e-03 6.50039444e-04]\n",
      " [0.00000000e+00 0.00000000e+00 0.00000000e+00 0.00000000e+00]\n",
      " [1.00372413e-02 1.76036680e-04 5.51257120e-05 2.17686137e-05]\n",
      " [0.00000000e+00 0.00000000e+00 0.00000000e+00 0.00000000e+00]\n",
      " [6.46030551e-04 1.26365788e-03 1.78299548e-04 3.25695891e-01]\n",
      " [2.58753133e-04 2.01346747e-01 6.97556477e-04 1.28969360e-04]\n",
      " [7.32648943e-02 2.15656918e-04 3.37840682e-05 2.89464465e-04]\n",
      " [0.00000000e+00 0.00000000e+00 0.00000000e+00 0.00000000e+00]\n",
      " [0.00000000e+00 0.00000000e+00 0.00000000e+00 0.00000000e+00]\n",
      " [4.57652606e-03 0.00000000e+00 7.22537582e-01 4.56162525e-03]\n",
      " [0.00000000e+00 0.00000000e+00 0.00000000e+00 9.64456140e-01]\n",
      " [0.00000000e+00 0.00000000e+00 0.00000000e+00 0.00000000e+00]]\n",
      "\n"
     ]
    },
    {
     "data": {
      "image/png": "[encoded data removed]",
      "text/plain": [
       "<Figure size 720x360 with 1 Axes>"
      ]
     },
     "metadata": {},
     "output_type": "display_data"
    }
   ],
   "source": [
    "# Initialize table with zeros.\n",
    "Q = np.zeros([environment.observation_space.n, environment.action_space.n])\n",
    "\n",
    "# Learning parameters.\n",
    "lr = .8  # Learning rate.\n",
    "y = .95  # Discount rate.\n",
    "no_episodes = 2000\n",
    "\n",
    "no_rewards = []\n",
    "for_viz = []\n",
    "for episode in range(no_episodes):\n",
    "    # Reset environment and get first new observation.\n",
    "    state = environment.reset()\n",
    "    reward_all = 0\n",
    "    done = False  # Done. If true, then episode is done.\n",
    "    step_number = 0  # Iterator. Number of steps in episode.\n",
    "    # The Q-Table learning algorithm.\n",
    "    while step_number < 99:\n",
    "        step_number += 1\n",
    "        # Choose an action by greedily (with noise) picking from Q table\n",
    "        # Noise is important. It's allows to choose different initial actions\n",
    "        action = (np.argmax(Q[state,:] +\n",
    "                            np.random.randn(1, environment.action_space.n)*(1./(episode+1))))\n",
    "        # Get new state and reward from environment.\n",
    "        state1, reward, done, _ = environment.step(action)\n",
    "        # Update Q-Table with new knowledge\n",
    "        # Use learning rate: If you think of the Q algorithm in the context of gradient descent, \n",
    "        # then `r + γ(max(Q(s’,a’))` is what we would like to approach, \n",
    "        # but we know that it is a noisy estimate of the true Q value \n",
    "        # for that given region. So instead of directly updating toward it,\n",
    "        # we take a small step in the direction that will make the Q value\n",
    "        # closer to the desired one.\n",
    "        Q[state, action] = (Q[state, action]\n",
    "                            + lr*(reward + y*np.max(Q[state1, :]) - Q[state, action]))\n",
    "        reward_all += reward\n",
    "        state = state1\n",
    "        if done == True:\n",
    "            break\n",
    "    no_rewards.append(reward_all)\n",
    "    if episode % 100 == 0:\n",
    "        for_viz.append((episode, sum(no_rewards)))\n",
    "    \n",
    "evaluate(for_viz, no_rewards, no_episodes)"
   ]
  },
  {
   "cell_type": "markdown",
   "metadata": {},
   "source": [
    "# Q-learning with neural network(s)"
   ]
  },
  {
   "cell_type": "code",
   "execution_count": null,
   "metadata": {},
   "outputs": [],
   "source": [
    "'''\n",
    "While it is easy to have a 16x4 table for a simple grid world, \n",
    "the number of possible states in any modern game or real-world environment is nearly infinitely larger. \n",
    "For most interesting problems, tables simply don’t work. \n",
    "We instead need some way to take a description of our state, and produce Q-values for actions without a table: that is where neural networks come in. \n",
    "By acting as a function approximator, we can take any number of possible states that can be represented as a vector and learn to map them to Q-values.\n",
    "\n",
    "In the case of the FrozenLake example, we will be using a one-layer network which takes the state encoded in a one-hot vector (1x16), \n",
    "and produces a vector of 4 Q-values, one for each action. Such a simple network acts kind of like a glorified table, \n",
    "with the network weights serving as the old cells. The key difference is that we can easily expand the Tensorflow network with added layers, \n",
    "activation functions, and different input types, whereas all that is impossible with a regular table. \n",
    "The method of updating is a little different as well.\n",
    "Instead of directly updating our table, with a network we will be using backpropagation and a loss function. \n",
    "Our loss function will be sum-of-squares loss, where the difference between the current predicted Q-values, \n",
    "and the “target” value is computed and the gradients passed through the network. \n",
    "In this case, our Q-target for the chosen action is the equivalent to the Q-value.\n",
    "\n",
    "Loss = ∑(Q-target - Q)²\n",
    "'''"
   ]
  },
  {
   "cell_type": "code",
   "execution_count": 244,
   "metadata": {},
   "outputs": [],
   "source": [
    "import random\n",
    "import tensorflow as tf\n",
    "\n",
    "tf.reset_default_graph()\n",
    "\n",
    "# These lines establish the feed-forward part of the network used to choose actions.\n",
    "inputs1 = tf.placeholder(shape=[1, 16], dtype=tf.float32)\n",
    "W = tf.Variable(tf.random_uniform([16, 4], 0, 0.01))\n",
    "Qout = tf.matmul(inputs1, W)\n",
    "predict = tf.argmax(Qout, 1)\n",
    "\n",
    "# Below we obtain the loss by taking the sum of squares difference between the target and prediction Q values.\n",
    "nextQ = tf.placeholder(shape=[1, 4], dtype=tf.float32)\n",
    "loss = tf.reduce_sum(tf.square(nextQ - Qout))\n",
    "trainer = tf.train.GradientDescentOptimizer(learning_rate=0.1)\n",
    "updateModel = trainer.minimize(loss)"
   ]
  },
  {
   "cell_type": "code",
   "execution_count": 253,
   "metadata": {},
   "outputs": [
    {
     "name": "stdout",
     "output_type": "stream",
     "text": [
      "Score over time: 0.0355\n",
      "Final Q-Table Values\n",
      "[[8.43877053e-02 6.33303082e-03 2.34830695e-03 6.09044065e-03]\n",
      " [8.51153584e-05 1.43132265e-03 4.93145717e-04 6.86296850e-02]\n",
      " [4.10155065e-03 2.53470958e-03 3.64968635e-03 8.10000225e-02]\n",
      " [1.80587192e-04 9.25496603e-04 1.28210129e-04 5.72030537e-02]\n",
      " [1.43846549e-01 1.10634335e-04 4.45348258e-03 6.50039444e-04]\n",
      " [0.00000000e+00 0.00000000e+00 0.00000000e+00 0.00000000e+00]\n",
      " [1.00372413e-02 1.76036680e-04 5.51257120e-05 2.17686137e-05]\n",
      " [0.00000000e+00 0.00000000e+00 0.00000000e+00 0.00000000e+00]\n",
      " [6.46030551e-04 1.26365788e-03 1.78299548e-04 3.25695891e-01]\n",
      " [2.58753133e-04 2.01346747e-01 6.97556477e-04 1.28969360e-04]\n",
      " [7.32648943e-02 2.15656918e-04 3.37840682e-05 2.89464465e-04]\n",
      " [0.00000000e+00 0.00000000e+00 0.00000000e+00 0.00000000e+00]\n",
      " [0.00000000e+00 0.00000000e+00 0.00000000e+00 0.00000000e+00]\n",
      " [4.57652606e-03 0.00000000e+00 7.22537582e-01 4.56162525e-03]\n",
      " [0.00000000e+00 0.00000000e+00 0.00000000e+00 9.64456140e-01]\n",
      " [0.00000000e+00 0.00000000e+00 0.00000000e+00 0.00000000e+00]]\n",
      "\n",
      "CPU times: user 16.1 s, sys: 1.38 s, total: 17.5 s\n",
      "Wall time: 14.8 s\n"
     ]
    },
    {
     "data": {
      "image/png": "[encoded data removed]",
      "text/plain": [
       "<Figure size 720x360 with 1 Axes>"
      ]
     },
     "metadata": {},
     "output_type": "display_data"
    }
   ],
   "source": [
    "%%time\n",
    "init = tf.initialize_all_variables()\n",
    "\n",
    "# Set learning parameters.\n",
    "y = .99\n",
    "e = 0.1\n",
    "num_episodes = 2000\n",
    "# Create lists to contain total rewards and steps per episode.\n",
    "no_rewards = []\n",
    "no_steps = []\n",
    "\n",
    "for_viz = []\n",
    "with tf.Session() as sess:\n",
    "    sess.run(init)\n",
    "    for episode in range(num_episodes):\n",
    "        # Reset environment and get first new observation.\n",
    "        s = environment.reset()\n",
    "        reward_all = 0\n",
    "        done = False\n",
    "        step_number = 0\n",
    "        # The Q-Network.\n",
    "        while step_number < 99:\n",
    "            step_number += 1\n",
    "            # Choose an action by greedily (with e chance of random action) from the Q-network.\n",
    "            action, allQ = sess.run([predict, Qout], feed_dict={inputs1:np.identity(16)[s:s+1]})\n",
    "            if np.random.rand(1) < e:\n",
    "                action[0] = environment.action_space.sample()\n",
    "            # Get new state and reward from environment.\n",
    "            state1, reward, done, _ = environment.step(action[0])\n",
    "            # Obtain the Q' values by feeding the new state through our network.\n",
    "            Q1 = sess.run(Qout, feed_dict={inputs1:np.identity(16)[state1:state1+1]})\n",
    "            # Obtain maxQ' and set our target value for chosen action.\n",
    "            maxQ1 = np.max(Q1)\n",
    "            targetQ = allQ\n",
    "            targetQ[0, action[0]] = reward + y*maxQ1\n",
    "            # Train our network using target and predicted Q values.\n",
    "            _, W1 = sess.run([updateModel, W], feed_dict={inputs1:np.identity(16)[s:s+1], nextQ:targetQ})\n",
    "            reward_all += reward\n",
    "            state = state1\n",
    "            if done == True:\n",
    "                # Reduce chance of random action as we train the model.\n",
    "                e = 1./((episode/50) + 10)\n",
    "                break\n",
    "        no_steps.append(step_number)\n",
    "        no_rewards.append(reward_all)\n",
    "        if episode % 100 == 0:\n",
    "            for_viz.append((episode, sum(no_rewards)))\n",
    "    \n",
    "evaluate(for_viz, no_rewards, no_episodes) "
   ]
  }
 ],
 "metadata": {
  "kernelspec": {
   "display_name": "Python 3",
   "language": "python",
   "name": "python3"
  },
  "language_info": {
   "codemirror_mode": {
    "name": "ipython",
    "version": 3
   },
   "file_extension": ".py",
   "mimetype": "text/x-python",
   "name": "python",
   "nbconvert_exporter": "python",
   "pygments_lexer": "ipython3",
   "version": "3.6.6"
  }
 },
 "nbformat": 4,
 "nbformat_minor": 2
}
