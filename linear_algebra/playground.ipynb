{
 "cells": [
  {
   "cell_type": "code",
   "execution_count": 2,
   "metadata": {},
   "outputs": [
    {
     "data": {
      "text/plain": [
       "'\\nIn the context of deep learning, linear algebra is a mathematical toolbox \\nthat offers helpful techniques for manipulating groups of numbers simultaneously.\\nIt provides structures like vectors and matrices (spreadsheets) to hold these numbers\\nand new rules for how to add, subtract, multiply, and divide them.\\n'"
      ]
     },
     "execution_count": 2,
     "metadata": {},
     "output_type": "execute_result"
    }
   ],
   "source": [
    "'''\n",
    "In the context of deep learning, linear algebra is a mathematical toolbox \n",
    "that offers helpful techniques for manipulating groups of numbers simultaneously.\n",
    "It provides structures like vectors and matrices (spreadsheets) to hold these numbers\n",
    "and new rules for how to add, subtract, multiply, and divide them.\n",
    "\n",
    "It turns complicated problems into simple, intuitive, efficiently calculated problems. \n",
    "Here is an example of how linear algebra can achieve greater speed and simplicity.\n",
    "'''"
   ]
  },
  {
   "cell_type": "code",
   "execution_count": 11,
   "metadata": {},
   "outputs": [],
   "source": [
    "import numpy as np"
   ]
  },
  {
   "cell_type": "code",
   "execution_count": 14,
   "metadata": {},
   "outputs": [
    {
     "name": "stdout",
     "output_type": "stream",
     "text": [
      "[2, 6, 12]\n",
      "CPU times: user 255 µs, sys: 81 µs, total: 336 µs\n",
      "Wall time: 287 µs\n"
     ]
    }
   ],
   "source": [
    "%%time\n",
    "# Two lists multiplication.\n",
    "x = [1,2,3]\n",
    "y = [2,3,4]\n",
    "product = []\n",
    "\n",
    "for i in range(len(x)):\n",
    "    tmp = x[i] * y[i]\n",
    "    product.append(tmp)\n",
    "    \n",
    "print(product)"
   ]
  },
  {
   "cell_type": "code",
   "execution_count": 40,
   "metadata": {},
   "outputs": [
    {
     "name": "stdout",
     "output_type": "stream",
     "text": [
      "[ 2  6 12]\n",
      "CPU times: user 388 µs, sys: 90 µs, total: 478 µs\n",
      "Wall time: 420 µs\n"
     ]
    }
   ],
   "source": [
    "%%time\n",
    "x = np.array([1,2,3])\n",
    "y = np.array([2,3,4])\n",
    "\n",
    "product = x * y\n",
    "print(product)"
   ]
  },
  {
   "cell_type": "code",
   "execution_count": 35,
   "metadata": {},
   "outputs": [
    {
     "data": {
      "text/plain": [
       "'\\nNeural networks store weights in matrices. \\nLinear algebra makes matrix operations fast and easy, especially when training on GPUs. \\nIn fact, GPUs were created with vector and matrix operations in mind. \\nSimilar to how images can be represented as arrays of pixels,\\nvideo games generate compelling gaming experiences using enormous, \\nconstantly evolving matrices. Instead of processing pixels one-by-one, \\nGPUs manipulate entire matrices of pixels in parallel.\\n'"
      ]
     },
     "execution_count": 35,
     "metadata": {},
     "output_type": "execute_result"
    }
   ],
   "source": [
    "'''\n",
    "Neural networks store weights in matrices. \n",
    "Linear algebra makes matrix operations fast and easy, especially when training on GPUs. \n",
    "In fact, GPUs were created with vector and matrix operations in mind. \n",
    "Similar to how images can be represented as arrays of pixels,\n",
    "video games generate compelling gaming experiences using enormous, \n",
    "constantly evolving matrices. Instead of processing pixels one-by-one, \n",
    "GPUs manipulate entire matrices of pixels in parallel.\n",
    "'''"
   ]
  },
  {
   "cell_type": "code",
   "execution_count": 41,
   "metadata": {},
   "outputs": [
    {
     "data": {
      "text/plain": [
       "array([3, 5, 7])"
      ]
     },
     "execution_count": 41,
     "metadata": {},
     "output_type": "execute_result"
    }
   ],
   "source": [
    "x + y"
   ]
  },
  {
   "cell_type": "code",
   "execution_count": 42,
   "metadata": {},
   "outputs": [
    {
     "data": {
      "text/plain": [
       "array([-1, -1, -1])"
      ]
     },
     "execution_count": 42,
     "metadata": {},
     "output_type": "execute_result"
    }
   ],
   "source": [
    "x - y"
   ]
  },
  {
   "cell_type": "code",
   "execution_count": 45,
   "metadata": {},
   "outputs": [
    {
     "data": {
      "text/plain": [
       "array([0.5       , 0.66666667, 0.75      ])"
      ]
     },
     "execution_count": 45,
     "metadata": {},
     "output_type": "execute_result"
    }
   ],
   "source": [
    "x / y"
   ]
  },
  {
   "cell_type": "code",
   "execution_count": 50,
   "metadata": {},
   "outputs": [
    {
     "data": {
      "text/plain": [
       "20"
      ]
     },
     "execution_count": 50,
     "metadata": {},
     "output_type": "execute_result"
    }
   ],
   "source": [
    "# Dot product: produces a scalar from two vectors.\n",
    "np.dot(x, y)"
   ]
  },
  {
   "cell_type": "code",
   "execution_count": 51,
   "metadata": {},
   "outputs": [
    {
     "data": {
      "text/plain": [
       "array([ 2,  6, 12])"
      ]
     },
     "execution_count": 51,
     "metadata": {},
     "output_type": "execute_result"
    }
   ],
   "source": [
    "# Hadamard product: elementwise multiplication and it outputs a vector.\n",
    "x * y"
   ]
  },
  {
   "cell_type": "code",
   "execution_count": 52,
   "metadata": {},
   "outputs": [
    {
     "data": {
      "text/plain": [
       "True"
      ]
     },
     "execution_count": 52,
     "metadata": {},
     "output_type": "execute_result"
    }
   ],
   "source": [
    "# Matrix\n",
    "a = np.array([\n",
    " [1,2,3], \n",
    " [4,5,6]\n",
    "])\n",
    "a.shape == (2,3)\n",
    "\n",
    "b = np.array([\n",
    " [1,2,3]\n",
    "])\n",
    "b.shape == (1,3)"
   ]
  },
  {
   "cell_type": "code",
   "execution_count": 53,
   "metadata": {},
   "outputs": [
    {
     "data": {
      "text/plain": [
       "array([[2, 3, 4],\n",
       "       [5, 6, 7]])"
      ]
     },
     "execution_count": 53,
     "metadata": {},
     "output_type": "execute_result"
    }
   ],
   "source": [
    "# Scalar operations.\n",
    "a + 1"
   ]
  },
  {
   "cell_type": "code",
   "execution_count": 54,
   "metadata": {},
   "outputs": [
    {
     "data": {
      "text/plain": [
       "array([[ 1,  4,  9],\n",
       "       [ 4, 10, 18]])"
      ]
     },
     "execution_count": 54,
     "metadata": {},
     "output_type": "execute_result"
    }
   ],
   "source": [
    "# Hadamard product.\n",
    "a * b"
   ]
  },
  {
   "cell_type": "code",
   "execution_count": 55,
   "metadata": {},
   "outputs": [
    {
     "data": {
      "text/plain": [
       "array([[1, 4],\n",
       "       [2, 5],\n",
       "       [3, 6]])"
      ]
     },
     "execution_count": 55,
     "metadata": {},
     "output_type": "execute_result"
    }
   ],
   "source": [
    "# Transpose.\n",
    "a.T"
   ]
  },
  {
   "cell_type": "code",
   "execution_count": 58,
   "metadata": {},
   "outputs": [
    {
     "data": {
      "text/plain": [
       "array([[19, 23],\n",
       "       [17, 24]])"
      ]
     },
     "execution_count": 58,
     "metadata": {},
     "output_type": "execute_result"
    }
   ],
   "source": [
    "# Multiplication.\n",
    "c = np.array([\n",
    " [2,3], \n",
    " [1,4]\n",
    "])\n",
    "\n",
    "d = np.array([\n",
    " [5,4], \n",
    " [3,5]\n",
    "])\n",
    "np.matmul(c, d)"
   ]
  }
 ],
 "metadata": {
  "kernelspec": {
   "display_name": "Python 3",
   "language": "python",
   "name": "python3"
  },
  "language_info": {
   "codemirror_mode": {
    "name": "ipython",
    "version": 3
   },
   "file_extension": ".py",
   "mimetype": "text/x-python",
   "name": "python",
   "nbconvert_exporter": "python",
   "pygments_lexer": "ipython3",
   "version": "3.6.6"
  }
 },
 "nbformat": 4,
 "nbformat_minor": 2
}
